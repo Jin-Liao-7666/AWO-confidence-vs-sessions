{
 "cells": [
  {
   "cell_type": "code",
   "execution_count": 32,
   "id": "e3bdd523",
   "metadata": {},
   "outputs": [],
   "source": [
    "import pandas as pd\n",
    "import numpy as np\n",
    "import matplotlib.pyplot as plt\n",
    "import seaborn as sns\n",
    "import plotly.express as px"
   ]
  },
  {
   "cell_type": "code",
   "execution_count": 60,
   "id": "4f7d4b19",
   "metadata": {},
   "outputs": [],
   "source": [
    "data = {\n",
    "    'Student_ID': [\n",
    "        'Ahmad Wali', 'Fatima Qadir', 'Omar Rahimi', 'Zainab Jan', 'Ali Shah', 'Mariam Khan', 'Bilal Zadran', 'Shazia Karimi', 'Haseeb Ahmadzai', 'Amina Saeed',\n",
    "        'Khalid Niazi', 'Samira Ibrahimi', 'Ramin Sharifi', 'Laila Sediqi', 'Jamal Khokhar', 'Sahar Noor', 'Ehsan Malikzada', 'Zahra Janan', 'Hashim Mohammadi', 'Sadaf Ghulami',\n",
    "        'Nazar Ali', 'Raheel Farhad', 'Kubra Samadi', 'Karim Khushal', 'Fatimah Ali', 'Adeel Azimi', 'Naseem Sadeq', 'Shirin Jamil', 'Faridullah Wali', 'Sana Zahid',\n",
    "        'Ali Javed', 'Mona Najib', 'Nasim Khel', 'Shukria Darwish', 'Raza Akbari', 'Mansoor Khan', 'Zainab Azizi', 'Javed Jalali', 'Shamsia Gul', 'Mohammad Dastagir',\n",
    "        'Ameer Zaki', 'Zahra Shafie', 'Shahin Shahbaz', 'Shabnam Ghafoori', 'Samiullah Fazel', 'Waseem Qaderi', 'Saba Parwani', 'Nadim Usmani', 'Samiha Barakzai', 'Kamal Ali',\n",
    "        'Nushin Yari', 'Bashir Safi', 'Khalil Amiri', 'Mariam Rafi', 'Mujtaba Zahir'\n",
    "    ],\n",
    "    'Grade_Level': [\n",
    "        9, 7, 8, 6, 5, 9, 4, 3, 2, 1,\n",
    "        6, 8, 5, 7, 6, 9, 5, 8, 4, 7,\n",
    "        3, 6, 2, 5, 9, 8, 4, 3, 7, 6,\n",
    "        9, 7, 5, 8, 6, 3, 4, 2, 1, 7,\n",
    "        9, 8, 5, 6, 3, 2, 4, 9, 7, 6,\n",
    "        8, 5, 4, 2, 3\n",
    "    ],\n",
    "    'Starting_English_Proficiency': [\n",
    "        4, 3, 2, 5, 1, 4, 5, 3, 2, 1,\n",
    "        4, 3, 2, 5, 1, 4, 3, 5, 2, 4,\n",
    "        5, 3, 1, 4, 2, 3, 5, 2, 4, 1,\n",
    "        3, 5, 2, 4, 1, 5, 3, 4, 2, 5,\n",
    "        1, 4, 3, 5, 2, 3, 1, 4, 5, 3,\n",
    "        2, 1, 4, 3, 5\n",
    "    ],\n",
    "    'Sessions_Attended': [\n",
    "        5, 24, 9, 26, 8, 21, 11, 25, 15,\n",
    "        6, 15, 12, 19, 28, 17, 14, 7, \n",
    "        30, 20, 13, 18, 16, 23, 22, 11, \n",
    "        12, 5, 19, 24, 21, 17, 13, 9, 25, \n",
    "        22, 16, 11, 27, 7, 18, 14, 6, 23, \n",
    "        19, 22, 15, 13, 30, 14, 16, 28, 6, \n",
    "        10, 27, 9\n",
    "\n",
    "    ],\n",
    "    'Subjects_Tutored':\n",
    "    [\"Math\", \"English\", \"History\", \"Science\", \"Math\", \"English\", \"Science\", \"History\", \"Math\", \"Science\",\n",
    " \"English\", \"Math\", \"Science\", \"History\", \"English\", \"History\", \"Math\", \"Science\", \"English\", \"History\",\n",
    " \"Math\", \"Science\", \"History\", \"English\", \"Math\", \"English\", \"History\", \"Science\", \"Math\", \"History\",\n",
    " \"Science\", \"English\", \"Math\", \"History\", \"Science\", \"English\", \"Math\", \"Science\", \"History\", \"Math\",\n",
    " \"English\", \"History\", \"Science\", \"Math\", \"English\", \"Science\", \"History\", \"English\", \"Math\", \"Science\",\n",
    " \"History\", \"Math\", \"Science\", \"History\", \"Math\"],\n",
    "\n",
    "    'Confidence_Rating_After': [\n",
    "        1, 2, 1, 2, 1, 2, 2, 3, 1, \n",
    "        2, 3, 2, 2, 3, 1, 2, 2, 2, \n",
    "        2, 3, 1, 2, 2, 2, 3, 3, 3, \n",
    "        3, 1, 3, 2, 2, 2, 2, 3, 3, \n",
    "        3, 2, 2, 3, 2, 2, 1, 2, 3, \n",
    "        2, 1, 3, 3, 3, 3, 3, 2, 3, 2\n",
    "\n",
    "    ]\n",
    "}"
   ]
  },
  {
   "cell_type": "code",
   "execution_count": 72,
   "id": "25ee9af1",
   "metadata": {},
   "outputs": [
    {
     "name": "stdout",
     "output_type": "stream",
     "text": [
      "Dataset:\n",
      "     Student_ID  Grade_Level  Starting_English_Proficiency  Sessions_Attended  \\\n",
      "0    Ahmad Wali            9                             4                  5   \n",
      "1  Fatima Qadir            7                             3                 24   \n",
      "2   Omar Rahimi            8                             2                  9   \n",
      "3    Zainab Jan            6                             5                 26   \n",
      "4      Ali Shah            5                             1                  8   \n",
      "\n",
      "  Subjects_Tutored  Confidence_Rating_After  \n",
      "0             Math                        1  \n",
      "1          English                        2  \n",
      "2          History                        1  \n",
      "3          Science                        2  \n",
      "4             Math                        1  \n",
      "\n",
      "Correlation between Sessions Attended and Confidence Rating: 0.17\n",
      "\n",
      "Average Confidence Rating by Subject:\n",
      "Subjects_Tutored\n",
      "English    2.333333\n",
      "History    2.357143\n",
      "Math       2.000000\n",
      "Science    2.142857\n",
      "Name: Confidence_Rating_After, dtype: float64\n"
     ]
    }
   ],
   "source": [
    "df = pd.DataFrame(data)\n",
    "print(\"Dataset:\")\n",
    "print(df.head(5))\n",
    "\n",
    "# Correlation between Sessions Attended and Confidence\n",
    "correlation = df['Sessions_Attended'].corr(df['Confidence_Rating_After'])\n",
    "print(f\"\\nCorrelation between Sessions Attended and Confidence Rating: {correlation:.2f}\")\n",
    "\n",
    "# Average confidence rating by subject\n",
    "grouped_confidence = df.groupby('Subjects_Tutored')['Confidence_Rating_After'].mean()\n",
    "print(\"\\nAverage Confidence Rating by Subject:\")\n",
    "print(grouped_confidence)\n"
   ]
  },
  {
   "cell_type": "code",
   "execution_count": 62,
   "id": "cd598fb9",
   "metadata": {},
   "outputs": [
    {
     "data": {
      "application/vnd.plotly.v1+json": {
       "config": {
        "plotlyServerURL": "https://plot.ly"
       },
       "data": [
        {
         "hovertemplate": "Subjects_Tutored=Math<br>Sessions Attended=%{x}<br>Confidence Rating After Tutoring=%{y}<extra></extra>",
         "legendgroup": "Math",
         "marker": {
          "color": "#636efa",
          "symbol": "circle"
         },
         "mode": "markers",
         "name": "Math",
         "orientation": "v",
         "showlegend": true,
         "type": "scatter",
         "x": {
          "bdata": "BQgPDAcSCxgJCxITDgYJ",
          "dtype": "i1"
         },
         "xaxis": "x",
         "y": {
          "bdata": "AQEBAgIBAwECAwMCAwMC",
          "dtype": "i1"
         },
         "yaxis": "y"
        },
        {
         "hovertemplate": "Subjects_Tutored=English<br>Sessions Attended=%{x}<br>Confidence Rating After Tutoring=%{y}<extra></extra>",
         "legendgroup": "English",
         "marker": {
          "color": "#EF553B",
          "symbol": "circle"
         },
         "mode": "markers",
         "name": "English",
         "orientation": "v",
         "showlegend": true,
         "type": "scatter",
         "x": {
          "bdata": "GBUPERQWDA0QDhYe",
          "dtype": "i1"
         },
         "xaxis": "x",
         "y": {
          "bdata": "AgIDAQICAwIDAgMD",
          "dtype": "i1"
         },
         "yaxis": "y"
        },
        {
         "hovertemplate": "Subjects_Tutored=History<br>Sessions Attended=%{x}<br>Confidence Rating After Tutoring=%{y}<extra></extra>",
         "legendgroup": "History",
         "marker": {
          "color": "#00cc96",
          "symbol": "circle"
         },
         "mode": "markers",
         "name": "History",
         "orientation": "v",
         "showlegend": true,
         "type": "scatter",
         "x": {
          "bdata": "CRkcDg0XBRUZBwYNHBs=",
          "dtype": "i1"
         },
         "xaxis": "x",
         "y": {
          "bdata": "AQMDAgMCAwMCAgIBAwM=",
          "dtype": "i1"
         },
         "yaxis": "y"
        },
        {
         "hovertemplate": "Subjects_Tutored=Science<br>Sessions Attended=%{x}<br>Confidence Rating After Tutoring=%{y}<extra></extra>",
         "legendgroup": "Science",
         "marker": {
          "color": "#ab63fa",
          "symbol": "circle"
         },
         "mode": "markers",
         "name": "Science",
         "orientation": "v",
         "showlegend": true,
         "type": "scatter",
         "x": {
          "bdata": "GgsGEx4QExEWGxcPEAo=",
          "dtype": "i1"
         },
         "xaxis": "x",
         "y": {
          "bdata": "AgICAgICAwIDAgECAwI=",
          "dtype": "i1"
         },
         "yaxis": "y"
        }
       ],
       "layout": {
        "legend": {
         "title": {
          "text": "Subjects_Tutored"
         },
         "tracegroupgap": 0
        },
        "template": {
         "data": {
          "bar": [
           {
            "error_x": {
             "color": "#2a3f5f"
            },
            "error_y": {
             "color": "#2a3f5f"
            },
            "marker": {
             "line": {
              "color": "#E5ECF6",
              "width": 0.5
             },
             "pattern": {
              "fillmode": "overlay",
              "size": 10,
              "solidity": 0.2
             }
            },
            "type": "bar"
           }
          ],
          "barpolar": [
           {
            "marker": {
             "line": {
              "color": "#E5ECF6",
              "width": 0.5
             },
             "pattern": {
              "fillmode": "overlay",
              "size": 10,
              "solidity": 0.2
             }
            },
            "type": "barpolar"
           }
          ],
          "carpet": [
           {
            "aaxis": {
             "endlinecolor": "#2a3f5f",
             "gridcolor": "white",
             "linecolor": "white",
             "minorgridcolor": "white",
             "startlinecolor": "#2a3f5f"
            },
            "baxis": {
             "endlinecolor": "#2a3f5f",
             "gridcolor": "white",
             "linecolor": "white",
             "minorgridcolor": "white",
             "startlinecolor": "#2a3f5f"
            },
            "type": "carpet"
           }
          ],
          "choropleth": [
           {
            "colorbar": {
             "outlinewidth": 0,
             "ticks": ""
            },
            "type": "choropleth"
           }
          ],
          "contour": [
           {
            "colorbar": {
             "outlinewidth": 0,
             "ticks": ""
            },
            "colorscale": [
             [
              0,
              "#0d0887"
             ],
             [
              0.1111111111111111,
              "#46039f"
             ],
             [
              0.2222222222222222,
              "#7201a8"
             ],
             [
              0.3333333333333333,
              "#9c179e"
             ],
             [
              0.4444444444444444,
              "#bd3786"
             ],
             [
              0.5555555555555556,
              "#d8576b"
             ],
             [
              0.6666666666666666,
              "#ed7953"
             ],
             [
              0.7777777777777778,
              "#fb9f3a"
             ],
             [
              0.8888888888888888,
              "#fdca26"
             ],
             [
              1,
              "#f0f921"
             ]
            ],
            "type": "contour"
           }
          ],
          "contourcarpet": [
           {
            "colorbar": {
             "outlinewidth": 0,
             "ticks": ""
            },
            "type": "contourcarpet"
           }
          ],
          "heatmap": [
           {
            "colorbar": {
             "outlinewidth": 0,
             "ticks": ""
            },
            "colorscale": [
             [
              0,
              "#0d0887"
             ],
             [
              0.1111111111111111,
              "#46039f"
             ],
             [
              0.2222222222222222,
              "#7201a8"
             ],
             [
              0.3333333333333333,
              "#9c179e"
             ],
             [
              0.4444444444444444,
              "#bd3786"
             ],
             [
              0.5555555555555556,
              "#d8576b"
             ],
             [
              0.6666666666666666,
              "#ed7953"
             ],
             [
              0.7777777777777778,
              "#fb9f3a"
             ],
             [
              0.8888888888888888,
              "#fdca26"
             ],
             [
              1,
              "#f0f921"
             ]
            ],
            "type": "heatmap"
           }
          ],
          "histogram": [
           {
            "marker": {
             "pattern": {
              "fillmode": "overlay",
              "size": 10,
              "solidity": 0.2
             }
            },
            "type": "histogram"
           }
          ],
          "histogram2d": [
           {
            "colorbar": {
             "outlinewidth": 0,
             "ticks": ""
            },
            "colorscale": [
             [
              0,
              "#0d0887"
             ],
             [
              0.1111111111111111,
              "#46039f"
             ],
             [
              0.2222222222222222,
              "#7201a8"
             ],
             [
              0.3333333333333333,
              "#9c179e"
             ],
             [
              0.4444444444444444,
              "#bd3786"
             ],
             [
              0.5555555555555556,
              "#d8576b"
             ],
             [
              0.6666666666666666,
              "#ed7953"
             ],
             [
              0.7777777777777778,
              "#fb9f3a"
             ],
             [
              0.8888888888888888,
              "#fdca26"
             ],
             [
              1,
              "#f0f921"
             ]
            ],
            "type": "histogram2d"
           }
          ],
          "histogram2dcontour": [
           {
            "colorbar": {
             "outlinewidth": 0,
             "ticks": ""
            },
            "colorscale": [
             [
              0,
              "#0d0887"
             ],
             [
              0.1111111111111111,
              "#46039f"
             ],
             [
              0.2222222222222222,
              "#7201a8"
             ],
             [
              0.3333333333333333,
              "#9c179e"
             ],
             [
              0.4444444444444444,
              "#bd3786"
             ],
             [
              0.5555555555555556,
              "#d8576b"
             ],
             [
              0.6666666666666666,
              "#ed7953"
             ],
             [
              0.7777777777777778,
              "#fb9f3a"
             ],
             [
              0.8888888888888888,
              "#fdca26"
             ],
             [
              1,
              "#f0f921"
             ]
            ],
            "type": "histogram2dcontour"
           }
          ],
          "mesh3d": [
           {
            "colorbar": {
             "outlinewidth": 0,
             "ticks": ""
            },
            "type": "mesh3d"
           }
          ],
          "parcoords": [
           {
            "line": {
             "colorbar": {
              "outlinewidth": 0,
              "ticks": ""
             }
            },
            "type": "parcoords"
           }
          ],
          "pie": [
           {
            "automargin": true,
            "type": "pie"
           }
          ],
          "scatter": [
           {
            "fillpattern": {
             "fillmode": "overlay",
             "size": 10,
             "solidity": 0.2
            },
            "type": "scatter"
           }
          ],
          "scatter3d": [
           {
            "line": {
             "colorbar": {
              "outlinewidth": 0,
              "ticks": ""
             }
            },
            "marker": {
             "colorbar": {
              "outlinewidth": 0,
              "ticks": ""
             }
            },
            "type": "scatter3d"
           }
          ],
          "scattercarpet": [
           {
            "marker": {
             "colorbar": {
              "outlinewidth": 0,
              "ticks": ""
             }
            },
            "type": "scattercarpet"
           }
          ],
          "scattergeo": [
           {
            "marker": {
             "colorbar": {
              "outlinewidth": 0,
              "ticks": ""
             }
            },
            "type": "scattergeo"
           }
          ],
          "scattergl": [
           {
            "marker": {
             "colorbar": {
              "outlinewidth": 0,
              "ticks": ""
             }
            },
            "type": "scattergl"
           }
          ],
          "scattermap": [
           {
            "marker": {
             "colorbar": {
              "outlinewidth": 0,
              "ticks": ""
             }
            },
            "type": "scattermap"
           }
          ],
          "scattermapbox": [
           {
            "marker": {
             "colorbar": {
              "outlinewidth": 0,
              "ticks": ""
             }
            },
            "type": "scattermapbox"
           }
          ],
          "scatterpolar": [
           {
            "marker": {
             "colorbar": {
              "outlinewidth": 0,
              "ticks": ""
             }
            },
            "type": "scatterpolar"
           }
          ],
          "scatterpolargl": [
           {
            "marker": {
             "colorbar": {
              "outlinewidth": 0,
              "ticks": ""
             }
            },
            "type": "scatterpolargl"
           }
          ],
          "scatterternary": [
           {
            "marker": {
             "colorbar": {
              "outlinewidth": 0,
              "ticks": ""
             }
            },
            "type": "scatterternary"
           }
          ],
          "surface": [
           {
            "colorbar": {
             "outlinewidth": 0,
             "ticks": ""
            },
            "colorscale": [
             [
              0,
              "#0d0887"
             ],
             [
              0.1111111111111111,
              "#46039f"
             ],
             [
              0.2222222222222222,
              "#7201a8"
             ],
             [
              0.3333333333333333,
              "#9c179e"
             ],
             [
              0.4444444444444444,
              "#bd3786"
             ],
             [
              0.5555555555555556,
              "#d8576b"
             ],
             [
              0.6666666666666666,
              "#ed7953"
             ],
             [
              0.7777777777777778,
              "#fb9f3a"
             ],
             [
              0.8888888888888888,
              "#fdca26"
             ],
             [
              1,
              "#f0f921"
             ]
            ],
            "type": "surface"
           }
          ],
          "table": [
           {
            "cells": {
             "fill": {
              "color": "#EBF0F8"
             },
             "line": {
              "color": "white"
             }
            },
            "header": {
             "fill": {
              "color": "#C8D4E3"
             },
             "line": {
              "color": "white"
             }
            },
            "type": "table"
           }
          ]
         },
         "layout": {
          "annotationdefaults": {
           "arrowcolor": "#2a3f5f",
           "arrowhead": 0,
           "arrowwidth": 1
          },
          "autotypenumbers": "strict",
          "coloraxis": {
           "colorbar": {
            "outlinewidth": 0,
            "ticks": ""
           }
          },
          "colorscale": {
           "diverging": [
            [
             0,
             "#8e0152"
            ],
            [
             0.1,
             "#c51b7d"
            ],
            [
             0.2,
             "#de77ae"
            ],
            [
             0.3,
             "#f1b6da"
            ],
            [
             0.4,
             "#fde0ef"
            ],
            [
             0.5,
             "#f7f7f7"
            ],
            [
             0.6,
             "#e6f5d0"
            ],
            [
             0.7,
             "#b8e186"
            ],
            [
             0.8,
             "#7fbc41"
            ],
            [
             0.9,
             "#4d9221"
            ],
            [
             1,
             "#276419"
            ]
           ],
           "sequential": [
            [
             0,
             "#0d0887"
            ],
            [
             0.1111111111111111,
             "#46039f"
            ],
            [
             0.2222222222222222,
             "#7201a8"
            ],
            [
             0.3333333333333333,
             "#9c179e"
            ],
            [
             0.4444444444444444,
             "#bd3786"
            ],
            [
             0.5555555555555556,
             "#d8576b"
            ],
            [
             0.6666666666666666,
             "#ed7953"
            ],
            [
             0.7777777777777778,
             "#fb9f3a"
            ],
            [
             0.8888888888888888,
             "#fdca26"
            ],
            [
             1,
             "#f0f921"
            ]
           ],
           "sequentialminus": [
            [
             0,
             "#0d0887"
            ],
            [
             0.1111111111111111,
             "#46039f"
            ],
            [
             0.2222222222222222,
             "#7201a8"
            ],
            [
             0.3333333333333333,
             "#9c179e"
            ],
            [
             0.4444444444444444,
             "#bd3786"
            ],
            [
             0.5555555555555556,
             "#d8576b"
            ],
            [
             0.6666666666666666,
             "#ed7953"
            ],
            [
             0.7777777777777778,
             "#fb9f3a"
            ],
            [
             0.8888888888888888,
             "#fdca26"
            ],
            [
             1,
             "#f0f921"
            ]
           ]
          },
          "colorway": [
           "#636efa",
           "#EF553B",
           "#00cc96",
           "#ab63fa",
           "#FFA15A",
           "#19d3f3",
           "#FF6692",
           "#B6E880",
           "#FF97FF",
           "#FECB52"
          ],
          "font": {
           "color": "#2a3f5f"
          },
          "geo": {
           "bgcolor": "white",
           "lakecolor": "white",
           "landcolor": "#E5ECF6",
           "showlakes": true,
           "showland": true,
           "subunitcolor": "white"
          },
          "hoverlabel": {
           "align": "left"
          },
          "hovermode": "closest",
          "mapbox": {
           "style": "light"
          },
          "paper_bgcolor": "white",
          "plot_bgcolor": "#E5ECF6",
          "polar": {
           "angularaxis": {
            "gridcolor": "white",
            "linecolor": "white",
            "ticks": ""
           },
           "bgcolor": "#E5ECF6",
           "radialaxis": {
            "gridcolor": "white",
            "linecolor": "white",
            "ticks": ""
           }
          },
          "scene": {
           "xaxis": {
            "backgroundcolor": "#E5ECF6",
            "gridcolor": "white",
            "gridwidth": 2,
            "linecolor": "white",
            "showbackground": true,
            "ticks": "",
            "zerolinecolor": "white"
           },
           "yaxis": {
            "backgroundcolor": "#E5ECF6",
            "gridcolor": "white",
            "gridwidth": 2,
            "linecolor": "white",
            "showbackground": true,
            "ticks": "",
            "zerolinecolor": "white"
           },
           "zaxis": {
            "backgroundcolor": "#E5ECF6",
            "gridcolor": "white",
            "gridwidth": 2,
            "linecolor": "white",
            "showbackground": true,
            "ticks": "",
            "zerolinecolor": "white"
           }
          },
          "shapedefaults": {
           "line": {
            "color": "#2a3f5f"
           }
          },
          "ternary": {
           "aaxis": {
            "gridcolor": "white",
            "linecolor": "white",
            "ticks": ""
           },
           "baxis": {
            "gridcolor": "white",
            "linecolor": "white",
            "ticks": ""
           },
           "bgcolor": "#E5ECF6",
           "caxis": {
            "gridcolor": "white",
            "linecolor": "white",
            "ticks": ""
           }
          },
          "title": {
           "x": 0.05
          },
          "xaxis": {
           "automargin": true,
           "gridcolor": "white",
           "linecolor": "white",
           "ticks": "",
           "title": {
            "standoff": 15
           },
           "zerolinecolor": "white",
           "zerolinewidth": 2
          },
          "yaxis": {
           "automargin": true,
           "gridcolor": "white",
           "linecolor": "white",
           "ticks": "",
           "title": {
            "standoff": 15
           },
           "zerolinecolor": "white",
           "zerolinewidth": 2
          }
         }
        },
        "title": {
         "text": "Sessions Attended vs Confidence Rating"
        },
        "xaxis": {
         "anchor": "y",
         "domain": [
          0,
          1
         ],
         "title": {
          "text": "Sessions Attended"
         }
        },
        "yaxis": {
         "anchor": "x",
         "domain": [
          0,
          1
         ],
         "title": {
          "text": "Confidence Rating After Tutoring"
         }
        }
       }
      }
     },
     "metadata": {},
     "output_type": "display_data"
    }
   ],
   "source": [
    "fig = px.scatter(df, \n",
    "                 x='Sessions_Attended', \n",
    "                 y='Confidence_Rating_After', \n",
    "                 color='Subjects_Tutored', \n",
    "                 title='Sessions Attended vs Confidence Rating',\n",
    "                 labels={'Sessions_Attended': 'Sessions Attended', 'Confidence_Rating_After': 'Confidence Rating After Tutoring'},\n",
    "                 template='plotly'\n",
    "                )\n",
    "fig.show()"
   ]
  },
  {
   "cell_type": "code",
   "execution_count": 74,
   "id": "a772c1e9",
   "metadata": {},
   "outputs": [
    {
     "data": {
      "image/png": "[encoded data removed]",
      "text/plain": [
       "<Figure size 800x600 with 1 Axes>"
      ]
     },
     "metadata": {},
     "output_type": "display_data"
    }
   ],
   "source": [
    "# Visualization 2: Confidence Rating by Subject\n",
    "plt.figure(figsize = (8,6))\n",
    "sns.barplot(x = grouped_confidence.index, y=grouped_confidence.values,  hue = grouped_confidence.index, palette='pastel')\n",
    "plt.title('Average Confidence Rating by Subject Tutored')\n",
    "plt.xlabel('Subject')\n",
    "plt.ylabel('Average Confidence Rating')\n",
    "plt.grid(axis='y')\n",
    "plt.show()"
   ]
  }
 ],
 "metadata": {
  "kernelspec": {
   "display_name": "Python 3",
   "language": "python",
   "name": "python3"
  },
  "language_info": {
   "codemirror_mode": {
    "name": "ipython",
    "version": 3
   },
   "file_extension": ".py",
   "mimetype": "text/x-python",
   "name": "python",
   "nbconvert_exporter": "python",
   "pygments_lexer": "ipython3",
   "version": "3.10.5"
  }
 },
 "nbformat": 4,
 "nbformat_minor": 5
}
